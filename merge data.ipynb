{
 "cells": [
  {
   "cell_type": "code",
   "execution_count": 36,
   "metadata": {
    "collapsed": true
   },
   "outputs": [],
   "source": [
    "import numpy as np\n",
    "import pandas as pd\n",
    "import os "
   ]
  },
  {
   "cell_type": "code",
   "execution_count": 37,
   "metadata": {
    "collapsed": true
   },
   "outputs": [],
   "source": [
    "# Load transformed data\n",
    "cwd = os.getcwd()\n",
    "datadir = cwd + os.sep + 'data' + os.sep\n",
    "\n",
    "def dummyVariables(data):\n",
    "    mv_cols = (pd.isnull(data)).any()\n",
    "    mv_cols = mv_cols[mv_cols == True]\n",
    "    if(mv_cols.empty):\n",
    "        return(data)\n",
    "    for each_col, each_bool in zip(mv_cols.index.values, mv_cols):\n",
    "        data[each_col+'_mv'] = np.where(np.isnan(data[each_col]), 1, 0)\n",
    "        col_mean = data[each_col].mean()\n",
    "        data[each_col] = data[each_col].fillna(col_mean)\n",
    "        \n",
    "    return(data)\n",
    "\n",
    "def loadSentimentData(fileName):\n",
    "    data = pd.read_csv(datadir + fileName, header=0, index_col=0)\n",
    "    data.drop(['arousal_mv','valence_mv','label'], 1, inplace=True)\n",
    "    data.index = data.index.astype('int64')\n",
    "    \n",
    "    return data\n",
    "\n",
    "def loadUserData(fileName):\n",
    "    data = pd.read_csv(datadir + fileName, header=0, encoding=\"cp1252\")\n",
    "    data = data[['id','favourites_count','followers_count','friends_count','listed_count','statuses_count', 'label', 'default_profile', 'default_profile_image','verified', 'reputation','taste']]\n",
    "    data.set_index('id', inplace=True)\n",
    "    data = dummyVariables(data)\n",
    "    \n",
    "    return data\n",
    "\n",
    "def loadTimingData(fileName):\n",
    "    data = pd.read_csv(datadir + fileName, header=0)\n",
    "    data.set_index('user_id', inplace=True)\n",
    "    data = dummyVariables(data)\n",
    "    \n",
    "    return data\n",
    "\n",
    "def loadData(fileNames):\n",
    "    sentiment = loadSentimentData(fileNames[0])\n",
    "    account = loadUserData(fileNames[1])\n",
    "    timing = loadTimingData(fileNames[2])\n",
    "    data = account.join(sentiment, how='left')\n",
    "    data = data.join(timing, how='left')\n",
    "    data = data.dropna()\n",
    "    data = data.loc[:, (data != 0).any(axis=0)]\n",
    "        \n",
    "    return data\n",
    "    \n",
    "data = loadData(['sentiment_dist_varol_dump.csv','merged.csv','timing.csv'])\n",
    "\n",
    "dataout = datadir + \"complete.csv\"\n",
    "\n",
    "data.to_csv(dataout)\n",
    "\n"
   ]
  }
 ],
 "metadata": {
  "kernelspec": {
   "display_name": "Python 3",
   "language": "python",
   "name": "python3"
  },
  "language_info": {
   "codemirror_mode": {
    "name": "ipython",
    "version": 3
   },
   "file_extension": ".py",
   "mimetype": "text/x-python",
   "name": "python",
   "nbconvert_exporter": "python",
   "pygments_lexer": "ipython3",
   "version": "3.6.2"
  }
 },
 "nbformat": 4,
 "nbformat_minor": 2
}
