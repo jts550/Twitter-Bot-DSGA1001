{
 "cells": [
  {
   "cell_type": "code",
   "execution_count": null,
   "metadata": {
    "collapsed": true
   },
   "outputs": [],
   "source": [
    "import os\n",
    "\n",
    "from sklearn.tree import DecisionTreeClassifier\n",
    "from sklearn.linear_model import LogisticRegression\n",
    "from sklearn.ensemble import GradientBoostingClassifier\n",
    "from sklearn.ensemble import RandomForestClassifier\n",
    "\n",
    "from sklearn.neighbors import KNeighborsClassifier\n",
    "from sklearn.svm import SVC\n",
    "\n",
    "%run model.py\n",
    "%run betweenCompare.py\n",
    "\n",
    "%matplotlib inline\n",
    "\n",
    "np.random.seed(1001)"
   ]
  },
  {
   "cell_type": "markdown",
   "metadata": {},
   "source": [
    "# Functions "
   ]
  },
  {
   "cell_type": "markdown",
   "metadata": {},
   "source": [
    "# Load Data"
   ]
  },
  {
   "cell_type": "code",
   "execution_count": null,
   "metadata": {},
   "outputs": [],
   "source": [
    "# Load transformed data\n",
    "cwd = os.getcwd()\n",
    "datadir = cwd + os.sep + 'data' + os.sep\n",
    "\n",
    "data = pd.read_csv(datadir + \"complete_data.csv\", index_col = 0)"
   ]
  },
  {
   "cell_type": "code",
   "execution_count": null,
   "metadata": {},
   "outputs": [],
   "source": [
    "data.head()"
   ]
  },
  {
   "cell_type": "markdown",
   "metadata": {},
   "source": [
    "# Feature Selection"
   ]
  },
  {
   "cell_type": "code",
   "execution_count": null,
   "metadata": {
    "collapsed": true
   },
   "outputs": [],
   "source": [
    "# Train test split\n",
    "X_train, X_test, y_train, y_test = ms.train_test_split(data.drop('label', 1), data.label, test_size=0.2, random_state=1001)"
   ]
  },
  {
   "cell_type": "code",
   "execution_count": null,
   "metadata": {},
   "outputs": [],
   "source": [
    "# DecisionTree for MI scores\n",
    "dt = Model(\"Decision Tree\", DecisionTreeClassifier(criterion='entropy'), X_train, y_train, X_test, y_test)"
   ]
  },
  {
   "cell_type": "code",
   "execution_count": null,
   "metadata": {},
   "outputs": [],
   "source": [
    "# Get importance and correlation\n",
    "features_summary = pd.DataFrame(list(zip(X_train.columns, dt.models[\"Baseline\"].model.feature_importances_)), \n",
    "                                columns=['feature','importance']).set_index('feature')\n",
    "features_summary = features_summary.sort_values('importance', ascending=False)\n",
    "\n",
    "corr_df = pd.DataFrame(data.corr()['label'][:-1])\n",
    "corr_df.columns = ['correlation']\n",
    "\n",
    "features_summary = features_summary.merge(corr_df, right_index=True, left_index=True)\n",
    "\n",
    "# Plot importance and correlation\n",
    "color_list = ['r' if corr < 0 else 'g' for corr in features_summary.correlation]\n",
    "features_summary.importance.plot(kind='bar', color=color_list, figsize=(12,8))\n",
    "plt.title('Feature Importance and Correlation Direction')\n",
    "plt.ylabel('Importance')\n",
    "\n",
    "# Select features\n",
    "keep_features = features_summary[features_summary.importance > 0].index.values"
   ]
  },
  {
   "cell_type": "markdown",
   "metadata": {},
   "source": [
    "# Train Baseline Model"
   ]
  },
  {
   "cell_type": "code",
   "execution_count": null,
   "metadata": {},
   "outputs": [],
   "source": [
    "# Discard features\n",
    "X_train_filt = X_train[keep_features]\n",
    "X_test_filt = X_test[keep_features]\n",
    "print(keep_features)"
   ]
  },
  {
   "cell_type": "code",
   "execution_count": null,
   "metadata": {
    "collapsed": true
   },
   "outputs": [],
   "source": [
    "# Baseline Logistic Regression and SVM\n",
    "lr = Model(\"Logistic Regression\", LogisticRegression(C=1e30), X_train, y_train, X_test, y_test)\n",
    "svm = Model(\"SVM\", SVC(kernel=\"linear\"), X_train, y_train, X_test, y_test)\n",
    "knn = Model(\"KNN\", KNeighborsClassifier(35), X_train, y_train, X_test, y_test)\n",
    "\n",
    "svm_pipeline = Pipeline(steps = [('normalize', Normalizer()),\n",
    "                                 ('estimator', svm.model)])\n",
    "\n",
    "knn_pipeline = Pipeline(steps = [('normalize', Normalizer()),\n",
    "                                 ('estimator', knn.model)])\n",
    "\n",
    "kfold = KFold(10, True)\n",
    "lr_cv = cross_val_score(lr.model, X_train, y_train, cv = kfold, scoring=\"roc_auc\")\n",
    "svm_cv = cross_val_score(svm_pipeline, X_train, y_train, cv = kfold, scoring=\"roc_auc\")\n",
    "knn_cv = cross_val_score(knn_pipeline, X_train, y_train, cv = kfold, scoring=\"roc_auc\")"
   ]
  },
  {
   "cell_type": "code",
   "execution_count": null,
   "metadata": {
    "collapsed": true
   },
   "outputs": [],
   "source": [
    "print(\"LR Mean CV AUC Score: {:0.3}\".format(np.mean(lr_cv))+\n",
    "      \"\\nLR StdErr CV AUC Score: {:0.3}\".format(np.sqrt(np.var(lr_cv)/len(lr_cv))))\n",
    "\n",
    "print(\"\\nSVM Mean CV AUC Score: {:0.3}\".format(np.mean(svm_cv))+\n",
    "      \"\\nSVM StdErr CV AUC Score: {:0.3}\".format(np.sqrt(np.var(svm_cv)/len(svm_cv))))\n",
    "\n",
    "print(\"\\nKNN Mean CV AUC Score: {:0.3}\".format(np.mean(knn_cv))+\n",
    "      \"\\nKNN StdErr CV AUC Score: {:0.3}\".format(np.sqrt(np.var(knn_cv)/len(knn_cv))))"
   ]
  },
  {
   "cell_type": "code",
   "execution_count": null,
   "metadata": {
    "collapsed": true
   },
   "outputs": [],
   "source": [
    "# ROC Curve for single test split baseline models\n",
    "lr.fit(X_train_filt, Y_train)\n",
    "svm_pipeline.fit(X_train_filt, Y_train)\n",
    "knn_pipeline.fit(X_train_filt, Y_train)\n",
    "\n",
    "lr_pos_class = lr.classes_==1\n",
    "preds_lr = lr.predict_proba(X_test_filt)[:,lr_pos_class]\n",
    "preds_svm = svm_pipeline.decision_function(X_test_filt)\n",
    "preds_knn = knn_pipeline.predict_proba(X_test_filt)[:,lr_pos_class]\n",
    "preds_zip = zip([preds_lr, preds_svm, preds_knn], [\"LogisticRegression\", \"SVM\", \"KNN\"])\n",
    "\n",
    "fig, axes = plt.subplots(1,1, figsize=(8,6))\n",
    "for each_preds, each_model in preds_zip:\n",
    "    fpr, tpr, thresholds = roc_curve(Y_test, each_preds)\n",
    "    roc_auc = auc(fpr, tpr)\n",
    "    axes.plot(fpr, tpr, label = each_model+\" (AUC = {:0.3})\".format(roc_auc))\n",
    "\n",
    "plt.title(\"ROC Curves for Baseline Models\")\n",
    "plt.xlabel(\"fpr\")\n",
    "plt.ylabel(\"tpr\")\n",
    "plt.legend()"
   ]
  },
  {
   "cell_type": "markdown",
   "metadata": {},
   "source": [
    "# Pipelines"
   ]
  },
  {
   "cell_type": "code",
   "execution_count": null,
   "metadata": {
    "collapsed": true
   },
   "outputs": [],
   "source": [
    "lr_pipeline = Pipeline([('variance_thresh', VarianceThreshold()),\n",
    "                        ('estimator', LogisticRegression())])\n",
    "\n",
    "svm_pipeline = Pipeline([('variance_thresh', VarianceThreshold()),\n",
    "                        ('normalize', Normalizer()),\n",
    "                        ('estimator', SVC())])\n",
    "\n",
    "gbm_pipeline = Pipeline([('variance_thresh', VarianceThreshold()),\n",
    "                        ('estimator', GradientBoostingClassifier())])"
   ]
  },
  {
   "cell_type": "markdown",
   "metadata": {},
   "source": [
    "# GBM Tuning "
   ]
  },
  {
   "cell_type": "code",
   "execution_count": null,
   "metadata": {
    "collapsed": true
   },
   "outputs": [],
   "source": [
    "gbc = Model(\"GBC\", GradientBoostingClassifier(), X_train_filt, y_train, X_test_filt, y_test)"
   ]
  },
  {
   "cell_type": "markdown",
   "metadata": {},
   "source": [
    " ## Iteration 1"
   ]
  },
  {
   "cell_type": "code",
   "execution_count": null,
   "metadata": {},
   "outputs": [],
   "source": [
    "gbc.addIteration(\"Estimators\", GradientBoostingClassifier(),\n",
    "                {'estimator__n_estimators': list(range(10,500,20))}, plot = True)\n",
    "gbc.withinCompare()"
   ]
  },
  {
   "cell_type": "markdown",
   "metadata": {},
   "source": [
    "## Iteration 2 "
   ]
  },
  {
   "cell_type": "code",
   "execution_count": null,
   "metadata": {},
   "outputs": [],
   "source": [
    "gbc.addIteration(\"Max Depth\", GradientBoostingClassifier(n_estimators=50),\n",
    "                {'estimator__max_depth': list(range(1,15))}, plot = True)\n",
    "gbc.withinCompare()"
   ]
  },
  {
   "cell_type": "markdown",
   "metadata": {},
   "source": [
    "## Iteration 3"
   ]
  },
  {
   "cell_type": "code",
   "execution_count": null,
   "metadata": {},
   "outputs": [],
   "source": [
    "gbc.addIteration(\"Min Samples\", GradientBoostingClassifier(n_estimators=50, max_depth=2),\n",
    "                {'estimator__min_samples_leaf': list(range(5,500,10))}, plot = True)\n",
    "gbc.withinCompare()"
   ]
  },
  {
   "cell_type": "markdown",
   "metadata": {},
   "source": [
    "## Iteration 4"
   ]
  },
  {
   "cell_type": "code",
   "execution_count": null,
   "metadata": {},
   "outputs": [],
   "source": [
    "gbc.addIteration(\"Max Features\", GradientBoostingClassifier(n_estimators=50, max_depth=2, min_samples_leaf=215),\n",
    "                {'estimator__max_features': list(range(2,X_train_filt.shape[1],2))}, plot = True)\n",
    "gbc.withinCompare()"
   ]
  },
  {
   "cell_type": "markdown",
   "metadata": {},
   "source": [
    "## Iteration 5"
   ]
  },
  {
   "cell_type": "code",
   "execution_count": null,
   "metadata": {},
   "outputs": [],
   "source": [
    "gbc.addIteration(\"Subsample\", \n",
    "                GradientBoostingClassifier(n_estimators=50, max_depth=2, min_samples_leaf=215, max_features=14),\n",
    "                {'estimator__subsample': np.array(list(range(10,105,5)))/100}, plot = True)\n",
    "gbc.withinCompare()"
   ]
  },
  {
   "cell_type": "markdown",
   "metadata": {},
   "source": [
    "## Interation 6 "
   ]
  },
  {
   "cell_type": "code",
   "execution_count": null,
   "metadata": {},
   "outputs": [],
   "source": [
    "gbc.addIteration(\"Estimators & Learning Rate\",\n",
    "                GradientBoostingClassifier(n_estimators=50, max_depth=2, min_samples_leaf=215, max_features=14,\n",
    "                                           subsample=0.85),\n",
    "                {'estimator__n_estimators': list(range(10,1000,20)),\n",
    "                 'estimator__learning_rate': [10**x for x in range(-3,0)]}, plot = True)\n",
    "gbc.withinCompare()"
   ]
  },
  {
   "cell_type": "markdown",
   "metadata": {},
   "source": [
    "## Iteration 7 "
   ]
  },
  {
   "cell_type": "code",
   "execution_count": null,
   "metadata": {},
   "outputs": [],
   "source": [
    "gbc.addIteration(\"Estimators 2\",\n",
    "                GradientBoostingClassifier(n_estimators=50, max_depth=2, min_samples_leaf=215, max_features=14,\n",
    "                                           subsample=0.85, learning_rate=0.01),\n",
    "                {'estimator__n_estimators': list(range(100,3000,100))}, plot = True)\n",
    "gbc.withinCompare()"
   ]
  },
  {
   "cell_type": "markdown",
   "metadata": {},
   "source": [
    "# Random Forest\n",
    "\n"
   ]
  },
  {
   "cell_type": "code",
   "execution_count": null,
   "metadata": {
    "collapsed": true
   },
   "outputs": [],
   "source": [
    "rdf = Model(\"RDF\", RandomForestClassifier(), X_train_filt, y_train, X_test_filt, y_test)"
   ]
  },
  {
   "cell_type": "markdown",
   "metadata": {},
   "source": [
    "## Iteration 1"
   ]
  },
  {
   "cell_type": "code",
   "execution_count": null,
   "metadata": {},
   "outputs": [],
   "source": [
    "rdf.addIteration(\"Number of Estimators\", RandomForestClassifier(),\n",
    "                {'estimator__n_estimators': list(range(1,500,5))}, plot = True)\n",
    "rdf.withinCompare()"
   ]
  },
  {
   "cell_type": "markdown",
   "metadata": {},
   "source": [
    "## Iteration 2"
   ]
  },
  {
   "cell_type": "code",
   "execution_count": null,
   "metadata": {},
   "outputs": [],
   "source": [
    "rdf.addIteration(\"Max Features\", RandomForestClassifier(n_estimators=421),\n",
    "                {'estimator__max_features': list(range(1,40,1))}, plot = True)\n",
    "rdf.withinCompare()\n",
    "#{'estimator__min_samples_leaf': list(range(2,20,2))}, plot = True)\n",
    "#{'estimator__min_samples_split':list(range(2,10,1))}, plot = True)\n",
    "\n"
   ]
  },
  {
   "cell_type": "markdown",
   "metadata": {},
   "source": [
    "## Iteration 3"
   ]
  },
  {
   "cell_type": "code",
   "execution_count": null,
   "metadata": {},
   "outputs": [],
   "source": [
    "rdf.addIteration(\"Min Samples Leaf\", RandomForestClassifier(n_estimators=421, max_features=7),\n",
    "                {'estimator__min_samples_leaf': list(range(2,20,2))}, plot = True)\n",
    "rdf.withinCompare()\n",
    "#\n",
    "#{'estimator__min_samples_split':list(range(2,10,1))}, plot = True)\n"
   ]
  },
  {
   "cell_type": "markdown",
   "metadata": {},
   "source": [
    "## Iteration 4"
   ]
  },
  {
   "cell_type": "code",
   "execution_count": null,
   "metadata": {},
   "outputs": [],
   "source": [
    "rdf.addIteration(\"Min Samples Split\", RandomForestClassifier(n_estimators=421, max_features=7, min_samples_leaf=8),\n",
    "                {'estimator__min_samples_split':list(range(2,40,2))}, plot = True)\n",
    "rdf.withinCompare()\n"
   ]
  },
  {
   "cell_type": "markdown",
   "metadata": {},
   "source": [
    "# KNN"
   ]
  },
  {
   "cell_type": "code",
   "execution_count": null,
   "metadata": {
    "collapsed": true
   },
   "outputs": [],
   "source": [
    "knn = Model(\"KNN\", KNeighborsClassifier(), X_train_filt, y_train, X_test_filt, y_test)"
   ]
  },
  {
   "cell_type": "code",
   "execution_count": null,
   "metadata": {},
   "outputs": [],
   "source": [
    "knn.addIteration(\"N-Neighbors(U)\", KNeighborsClassifier(),\n",
    "                {'estimator__n_neighbors': list(range(1,50,1))}, plot = True)\n",
    "knn.withinCompare()"
   ]
  },
  {
   "cell_type": "code",
   "execution_count": null,
   "metadata": {},
   "outputs": [],
   "source": [
    "knn.addIteration(\"N-Neighbors(D)\", KNeighborsClassifier(weights = 'distance'),\n",
    "                {'estimator__n_neighbors': list(range(1,50,1))}, plot = True)\n",
    "knn.withinCompare()"
   ]
  },
  {
   "cell_type": "markdown",
   "metadata": {},
   "source": [
    "# Model Comparison\n"
   ]
  },
  {
   "cell_type": "code",
   "execution_count": null,
   "metadata": {},
   "outputs": [],
   "source": [
    "betweenCompare([gbc, rdf, knn])"
   ]
  }
 ],
 "metadata": {
  "kernelspec": {
   "display_name": "Python 3",
   "language": "python",
   "name": "python3"
  },
  "language_info": {
   "codemirror_mode": {
    "name": "ipython",
    "version": 3
   },
   "file_extension": ".py",
   "mimetype": "text/x-python",
   "name": "python",
   "nbconvert_exporter": "python",
   "pygments_lexer": "ipython3",
   "version": "3.6.1"
  }
 },
 "nbformat": 4,
 "nbformat_minor": 2
}
