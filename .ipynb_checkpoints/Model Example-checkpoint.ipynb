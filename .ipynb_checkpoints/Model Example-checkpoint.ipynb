{
 "cells": [
  {
   "cell_type": "code",
   "execution_count": 13,
   "metadata": {},
   "outputs": [],
   "source": [
    "#Check which libraries are still needed\n",
    "%run model.py\n",
    "import os\n",
    "from sklearn.ensemble import GradientBoostingClassifier\n",
    "%matplotlib inline"
   ]
  },
  {
   "cell_type": "code",
   "execution_count": 7,
   "metadata": {},
   "outputs": [],
   "source": [
    "#Load data\n",
    "cwd = os.getcwd()\n",
    "datadir = cwd + os.sep + 'data' + os.sep\n",
    "\n",
    "def loadSentimentData(fileName):\n",
    "    data = pd.read_csv(datadir + fileName, header=0, index_col=0)\n",
    "    data.dropna(inplace=True)\n",
    "    data.drop(['arousal_mv','valence_mv','label'], 1, inplace=True)\n",
    "    data.index = data.index.astype('int64')\n",
    "    \n",
    "    return data\n",
    "\n",
    "def loadUserData(fileName):\n",
    "    data = pd.read_csv(datadir + fileName, header=0, encoding=\"cp1252\")\n",
    "    data = data[['id','favourites_count','followers_count','friends_count','listed_count','statuses_count', 'label', 'default_profile', 'default_profile_image','verified']]\n",
    "    data.set_index('id', inplace=True)\n",
    "    \n",
    "    return data\n",
    "\n",
    "def loadTimingData(fileName):\n",
    "    data = pd.read_csv(datadir + fileName, header=0)\n",
    "    data.set_index('user_id', inplace=True)\n",
    "    \n",
    "    return data\n",
    "\n",
    "def loadData(fileNames):\n",
    "    sentiment = loadSentimentData(fileNames[0])\n",
    "    account = loadUserData(fileNames[1])\n",
    "    timing = loadTimingData(fileNames[2])\n",
    "    data = account.join(sentiment, how='left')\n",
    "    data = data.join(timing, how='left')\n",
    "    \n",
    "    mv_cols = (pd.isnull(data)).any()\n",
    "    for each_col, each_bool in zip(mv_cols.index.values, mv_cols):\n",
    "        data[each_col+'_mv'] = np.where(np.isnan(data[each_col]), 1, 0)\n",
    "        col_mean = data[each_col].mean()\n",
    "        data[each_col] = data[each_col].fillna(col_mean)\n",
    "        \n",
    "    return data\n",
    "    \n",
    "data = loadData(['sentiment_dist_varol_dump.csv','varol-2017-users.csv','timing.csv'])"
   ]
  },
  {
   "cell_type": "code",
   "execution_count": 8,
   "metadata": {
    "collapsed": true
   },
   "outputs": [],
   "source": [
    "#Train test split\n",
    "X_train_c, X_test_c, y_train, y_test = ms.train_test_split(data.drop(\"label\", axis = 1), data.label, test_size=0.2, random_state=1001)\n",
    "X_train, X_test = X_train_c.copy(), X_test_c.copy()\n",
    "\n",
    "not_scalable= ['default_profile', 'default_profile_image', 'verified']\n",
    "\n",
    "#Scale\n",
    "scaler = pre.StandardScaler()\n",
    "scaler.fit(X_train_c.copy())\n",
    "X_train.loc[:,X_train.columns.difference(not_scalable)] = scaler.fit_transform(X_train.loc[:,X_train.columns.difference(not_scalable)])\n",
    "X_test.loc[:,X_test.columns.difference(not_scalable)] = scaler.fit_transform(X_test.loc[:,X_test.columns.difference(not_scalable)])"
   ]
  },
  {
   "cell_type": "code",
   "execution_count": 14,
   "metadata": {
    "collapsed": true
   },
   "outputs": [],
   "source": [
    "#Create model Object\n",
    "gbc = Model(\"Gradient Boosted Classifier\", GradientBoostingClassifier(), X_train, y_train)\n",
    "#Base predictions\n",
    "gbc.predict(X_test)"
   ]
  },
  {
   "cell_type": "code",
   "execution_count": 15,
   "metadata": {},
   "outputs": [
    {
     "name": "stdout",
     "output_type": "stream",
     "text": [
      "Best Score: 0.858654\n",
      "\n",
      "Best Params:  {'estimator__n_estimators': 50}\n"
     ]
    }
   ],
   "source": [
    "#Run cv and save best model\n",
    "gbc.tuningIteration(GradientBoostingClassifier(),\n",
    "                {'estimator__n_estimators': list(range(10,500,20))}, plot = False)"
   ]
  },
  {
   "cell_type": "code",
   "execution_count": 16,
   "metadata": {},
   "outputs": [
    {
     "name": "stdout",
     "output_type": "stream",
     "text": [
      "Adding predictions for cross-validated model\n"
     ]
    },
    {
     "data": {
      "image/png": "[encoded data removed]",
      "text/plain": [
       "<matplotlib.figure.Figure at 0x1733d281208>"
      ]
     },
     "metadata": {},
     "output_type": "display_data"
    }
   ],
   "source": [
    "#compare baseline and cv-model\n",
    "gbc.compare(X_test, y_test)"
   ]
  }
 ],
 "metadata": {
  "kernelspec": {
   "display_name": "Python 3",
   "language": "python",
   "name": "python3"
  },
  "language_info": {
   "codemirror_mode": {
    "name": "ipython",
    "version": 3
   },
   "file_extension": ".py",
   "mimetype": "text/x-python",
   "name": "python",
   "nbconvert_exporter": "python",
   "pygments_lexer": "ipython3",
   "version": "3.6.2"
  }
 },
 "nbformat": 4,
 "nbformat_minor": 2
}
