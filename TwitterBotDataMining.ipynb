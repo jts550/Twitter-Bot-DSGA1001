{
 "cells": [
  {
   "cell_type": "code",
   "execution_count": 1,
   "metadata": {
    "collapsed": true
   },
   "outputs": [],
   "source": [
    "import pandas as pd\n",
    "import numpy as np\n",
    "import os\n",
    "from sklearn.tree import DecisionTreeClassifier\n",
    "from sklearn.linear_model import LogisticRegression\n",
    "from sklearn.svm import SVC\n",
    "from sklearn.metrics import roc_auc_score\n",
    "from sklearn.metrics import roc_curve\n",
    "from sklearn.metrics import auc\n",
    "from sklearn.preprocessing import scale\n",
    "from sklearn.model_selection import KFold\n",
    "from sklearn.model_selection import cross_val_score\n",
    "from sklearn.pipeline import Pipeline\n",
    "import matplotlib.pyplot as plt\n",
    "%matplotlib inline"
   ]
  },
  {
   "cell_type": "markdown",
   "metadata": {},
   "source": [
    "# Load Data"
   ]
  },
  {
   "cell_type": "code",
   "execution_count": 2,
   "metadata": {
    "collapsed": true
   },
   "outputs": [],
   "source": [
    "# Load transformed data\n",
    "cwd = os.getcwd()\n",
    "datadir = cwd + os.sep + 'data' + os.sep\n",
    "#datadir = '/'.join(cwd.split('/')) + '/Twitter-Bot-DSGA1001/data/'\n",
    "\n",
    "def loadSentimentData(fileName):\n",
    "    data = pd.read_csv(datadir + fileName, header=0, index_col=0)\n",
    "    data.dropna(inplace=True)\n",
    "\n",
    "    for each_col in data.columns:\n",
    "        if each_col.find('_mv') > 0:\n",
    "            data[each_col] = scale(data[each_col])\n",
    "        \n",
    "    data.drop(['arousal_mv','valence_mv'], 1, inplace=True)\n",
    "    return data\n",
    "\n",
    "def loadUserData(fileName):\n",
    "    data = pd.read_csv(datadir + fileName, header=0, encoding=\"cp1252\")\n",
    "    data = data[['favourites_count','followers_count','friends_count','listed_count','statuses_count', 'label', 'default_profile', 'default_profile_image','verified']]\n",
    "    return data\n",
    "\n",
    "#data = loadSentimentData('sentiment_dist.csv')\n",
    "data = loadUserData('varol-2017-users.csv')\n"
   ]
  },
  {
   "cell_type": "markdown",
   "metadata": {},
   "source": [
    "# Feature Selection"
   ]
  },
  {
   "cell_type": "code",
   "execution_count": 3,
   "metadata": {
    "collapsed": true
   },
   "outputs": [],
   "source": [
    "# Train test split\n",
    "sample_filt = np.random.uniform(0,1, data.shape[0]) > 0.8\n",
    "\n",
    "X_train = data[sample_filt].drop('label',1)\n",
    "Y_train = data[sample_filt].label\n",
    "X_test = data[~sample_filt].drop('label',1)\n",
    "Y_test = data[~sample_filt].label"
   ]
  },
  {
   "cell_type": "code",
   "execution_count": 4,
   "metadata": {},
   "outputs": [
    {
     "data": {
      "text/plain": [
       "DecisionTreeClassifier(class_weight=None, criterion='entropy', max_depth=None,\n",
       "            max_features=None, max_leaf_nodes=None,\n",
       "            min_impurity_split=1e-07, min_samples_leaf=1,\n",
       "            min_samples_split=2, min_weight_fraction_leaf=0.0,\n",
       "            presort=False, random_state=None, splitter='best')"
      ]
     },
     "execution_count": 4,
     "metadata": {},
     "output_type": "execute_result"
    }
   ],
   "source": [
    "# DecisionTree for MI scores\n",
    "dt = DecisionTreeClassifier(criterion='entropy')\n",
    "dt.fit(X_train, Y_train)"
   ]
  },
  {
   "cell_type": "code",
   "execution_count": 5,
   "metadata": {},
   "outputs": [
    {
     "data": {
      "image/png": "[encoded data removed]",
      "text/plain": [
       "<matplotlib.figure.Figure at 0x209f1c67b70>"
      ]
     },
     "metadata": {},
     "output_type": "display_data"
    }
   ],
   "source": [
    "# Get importance and correlation\n",
    "features_summary = pd.DataFrame(list(zip(X_train.columns, dt.feature_importances_)), \n",
    "                                columns=['feature','importance']).set_index('feature')\n",
    "features_summary = features_summary.sort_values('importance', ascending=False)\n",
    "\n",
    "corr_df = pd.DataFrame(data.corr()['label'][:-1])\n",
    "corr_df.columns = ['correlation']\n",
    "\n",
    "features_summary = features_summary.merge(corr_df, right_index=True, left_index=True)\n",
    "\n",
    "# Plot importance and correlation\n",
    "color_list = ['r' if corr < 0 else 'g' for corr in features_summary.correlation]\n",
    "features_summary.importance.plot(kind='bar', color=color_list, figsize=(12,8))\n",
    "plt.title('Feature Importance and Correlation Direction')\n",
    "plt.ylabel('Importance')\n",
    "\n",
    "# Select features\n",
    "keep_features = features_summary[features_summary.importance > 0].index.values"
   ]
  },
  {
   "cell_type": "markdown",
   "metadata": {},
   "source": [
    "# Train Baseline Model"
   ]
  },
  {
   "cell_type": "code",
   "execution_count": 6,
   "metadata": {
    "collapsed": true
   },
   "outputs": [],
   "source": [
    "# Discard features\n",
    "X_train_filt = X_train[keep_features]\n",
    "X_test_filt = X_test[keep_features]"
   ]
  },
  {
   "cell_type": "code",
   "execution_count": 7,
   "metadata": {
    "collapsed": true
   },
   "outputs": [],
   "source": [
    "# Baseline Logistic Regression and SVM\n",
    "lr = LogisticRegression(C=1e30)\n",
    "svm = SVC(kernel=\"linear\")\n",
    "\n",
    "kfold = KFold(10, True)\n",
    "lr_cv = cross_val_score(lr, X_train_filt, Y_train, cv = kfold, scoring=\"roc_auc\")\n",
    "svm_cv = cross_val_score(svm, X_train_filt, Y_train, cv = kfold, scoring=\"roc_auc\")"
   ]
  },
  {
   "cell_type": "code",
   "execution_count": 8,
   "metadata": {},
   "outputs": [
    {
     "name": "stdout",
     "output_type": "stream",
     "text": [
      "LR Mean CV AUC Score: 0.772\n",
      "LR StdErr CV AUC Score: 0.0306\n",
      "\n",
      "SVM Mean CV AUC Score: 0.759\n",
      "SVM StdErr CV AUC Score: 0.0313\n"
     ]
    }
   ],
   "source": [
    "print(\"LR Mean CV AUC Score: {:0.3}\".format(np.mean(lr_cv))+\n",
    "      \"\\nLR StdErr CV AUC Score: {:0.3}\".format(np.sqrt(np.var(lr_cv)/len(lr_cv)))\n",
    "      )\n",
    "\n",
    "print(\"\\nSVM Mean CV AUC Score: {:0.3}\".format(np.mean(svm_cv))+\n",
    "      \"\\nSVM StdErr CV AUC Score: {:0.3}\".format(np.sqrt(np.var(svm_cv)/len(svm_cv))))"
   ]
  },
  {
   "cell_type": "code",
   "execution_count": 9,
   "metadata": {},
   "outputs": [
    {
     "data": {
      "text/plain": [
       "<matplotlib.legend.Legend at 0x209f302d630>"
      ]
     },
     "execution_count": 9,
     "metadata": {},
     "output_type": "execute_result"
    },
    {
     "data": {
      "image/png": "[encoded data removed]",
      "text/plain": [
       "<matplotlib.figure.Figure at 0x209f346bcf8>"
      ]
     },
     "metadata": {},
     "output_type": "display_data"
    }
   ],
   "source": [
    "# ROC Curve for single train/test split baseline model\n",
    "lr.fit(X_train_filt, Y_train)\n",
    "svm.fit(X_train_filt, Y_train)\n",
    "\n",
    "lr_pos_class = lr.classes_==1\n",
    "preds_lr = lr.predict_proba(X_test_filt)[:,lr_pos_class]\n",
    "preds_svm = svm.decision_function(X_test_filt)\n",
    "preds_zip = zip([preds_lr, preds_svm], [\"LogisticRegression\", \"SVM\"])\n",
    "\n",
    "fig, axes = plt.subplots(1,1, figsize=(8,6))\n",
    "for each_preds, each_model in preds_zip:\n",
    "    fpr, tpr, thresholds = roc_curve(Y_test, each_preds)\n",
    "    roc_auc = auc(fpr, tpr)\n",
    "    axes.plot(fpr, tpr, label = each_model+\" (AUC = {:0.3})\".format(roc_auc))\n",
    "\n",
    "plt.title(\"ROC Curves for LR and SVM Models\")\n",
    "plt.xlabel(\"fpr\")\n",
    "plt.ylabel(\"tpr\")\n",
    "plt.legend()"
   ]
  },
  {
   "cell_type": "code",
   "execution_count": null,
   "metadata": {
    "collapsed": true
   },
   "outputs": [],
   "source": []
  }
 ],
 "metadata": {
  "kernelspec": {
   "display_name": "Python 3",
   "language": "python",
   "name": "python3"
  },
  "language_info": {
   "codemirror_mode": {
    "name": "ipython",
    "version": 3
   },
   "file_extension": ".py",
   "mimetype": "text/x-python",
   "name": "python",
   "nbconvert_exporter": "python",
   "pygments_lexer": "ipython3",
   "version": "3.6.1"
  }
 },
 "nbformat": 4,
 "nbformat_minor": 2
}
