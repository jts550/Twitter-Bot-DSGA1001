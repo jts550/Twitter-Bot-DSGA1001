{
 "cells": [
  {
   "cell_type": "code",
   "execution_count": 5,
   "metadata": {},
   "outputs": [
    {
     "name": "stdout",
     "output_type": "stream",
     "text": [
      "       entities  favourites_count  follow_request_sent  followers_count  \\\n",
      "count       0.0       2426.000000                  0.0      2426.000000   \n",
      "mean        NaN       4734.973207                  NaN      1579.082028   \n",
      "std         NaN      10733.736760                  NaN      7690.500621   \n",
      "min         NaN          0.000000                  NaN         0.000000   \n",
      "25%         NaN         90.000000                  NaN       131.000000   \n",
      "50%         NaN       1184.500000                  NaN       343.500000   \n",
      "75%         NaN       4665.000000                  NaN       825.750000   \n",
      "max         NaN     180618.000000                  NaN    228346.000000   \n",
      "\n",
      "       following  friends_count        id_str        label  listed_count  \\\n",
      "count        0.0    2426.000000  2.426000e+03  2426.000000   2426.000000   \n",
      "mean         NaN     780.469909  1.368658e+09     0.311624     28.345012   \n",
      "std          NaN    2139.754827  1.302884e+09     0.463253    138.286456   \n",
      "min          NaN       0.000000  1.325300e+04     0.000000      0.000000   \n",
      "25%          NaN     148.250000  2.407519e+08     0.000000      1.000000   \n",
      "50%          NaN     349.000000  7.579860e+08     0.000000      3.000000   \n",
      "75%          NaN     741.500000  2.582452e+09     1.000000     14.000000   \n",
      "max          NaN   67586.000000  4.627817e+09     1.000000   4528.000000   \n",
      "\n",
      "       notifications  status  statuses_count    utc_offset   reputation  \\\n",
      "count            0.0     0.0     2426.000000   1449.000000  2155.000000   \n",
      "mean             NaN     NaN    12752.073784 -11236.024845     0.494208   \n",
      "std              NaN     NaN    22457.691180  18598.541489     0.225693   \n",
      "min              NaN     NaN        0.000000 -39600.000000     0.000000   \n",
      "25%              NaN     NaN     2122.500000 -25200.000000     0.344868   \n",
      "50%              NaN     NaN     5213.500000 -18000.000000     0.502526   \n",
      "75%              NaN     NaN    13486.500000      0.000000     0.622968   \n",
      "max              NaN     NaN   321295.000000  46800.000000     1.000000   \n",
      "\n",
      "             taste  \n",
      "count  2154.000000  \n",
      "mean      0.708468  \n",
      "std       0.146292  \n",
      "min       0.192854  \n",
      "25%       0.597559  \n",
      "50%       0.701362  \n",
      "75%       0.822087  \n",
      "max       1.000000  \n"
     ]
    }
   ],
   "source": [
    "#Load data\n",
    "import os\n",
    "import pandas as pd\n",
    "cwd = os.getcwd()\n",
    "datadir = cwd + os.sep + 'data' + os.sep\n",
    "\n",
    "\n",
    "data = pd.read_csv(datadir + \"varol-2017-users.csv\", header=0, encoding=\"cp1252\")\n",
    "data.set_index('id', inplace=True, drop=False)\n",
    "data.index = data.index.map(str)\n",
    "\n",
    "#print(data.describe())\n",
    "tastedata = pd.read_csv(datadir + \"tastes.csv\", header=0, encoding=\"cp1252\")\n",
    "tastedata.set_index('id', inplace=True, drop=False)\n",
    "tastedata.index = tastedata.index.map(str)\n",
    "#print(tastedata.describe())\n",
    "\n",
    "result = pd.concat([data, tastedata], axis=1)\n",
    "\n",
    "print(result.describe())\n",
    "#result.head()\n",
    "\n",
    "result.to_csv(datadir + \"merged.csv\", encoding=\"cp1252\")\n"
   ]
  },
  {
   "cell_type": "code",
   "execution_count": null,
   "metadata": {
    "collapsed": true
   },
   "outputs": [],
   "source": []
  }
 ],
 "metadata": {
  "kernelspec": {
   "display_name": "Python 3",
   "language": "python",
   "name": "python3"
  },
  "language_info": {
   "codemirror_mode": {
    "name": "ipython",
    "version": 3
   },
   "file_extension": ".py",
   "mimetype": "text/x-python",
   "name": "python",
   "nbconvert_exporter": "python",
   "pygments_lexer": "ipython3",
   "version": "3.6.3"
  }
 },
 "nbformat": 4,
 "nbformat_minor": 2
}
